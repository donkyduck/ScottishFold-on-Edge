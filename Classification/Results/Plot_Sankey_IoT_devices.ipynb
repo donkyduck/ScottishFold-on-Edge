{
 "cells": [
  {
   "cell_type": "markdown",
   "id": "46cc526e",
   "metadata": {},
   "source": [
    "# Sankey of IoT devices's communication traffic\n",
    "- This program is to analyse the traffic of IoT devices by Sankey diagram"
   ]
  },
  {
   "cell_type": "code",
   "execution_count": 1,
   "id": "d6b532a7",
   "metadata": {},
   "outputs": [],
   "source": [
    "import pandas as pd\n",
    "import numpy as np\n",
    "import os\n",
    "import plotly.graph_objects as go"
   ]
  },
  {
   "cell_type": "markdown",
   "id": "a74d839c",
   "metadata": {},
   "source": [
    "## Functions for Creating a Y Lable "
   ]
  },
  {
   "cell_type": "code",
   "execution_count": 2,
   "id": "61adcc73",
   "metadata": {},
   "outputs": [],
   "source": [
    "def findexact(lst,key):\n",
    "    for idx, elem in enumerate(lst):\n",
    "        if key == elem:\n",
    "            return idx\n",
    "            \n",
    "def Y_label(IoT_df1,df2):\n",
    "    \"\"\" \n",
    "    IoT_df1: IoT Database,\n",
    "    df2: device_name\n",
    "    \n",
    "    \"\"\"\n",
    "    y_label = []\n",
    "    macADD_list = df2[\"macAddress\"].tolist()\n",
    "    macADD_list = [x.strip(' ') for x in macADD_list]\n",
    "    print('macADD_list = ',macADD_list)\n",
    "\n",
    "    for r in range(len(IoT_df1)):\n",
    "        #print(IoT_df1.iloc[r]['macSrc'])\n",
    "        src_device = findexact(macADD_list,IoT_df1.iloc[r]['macSrc'])\n",
    "        dst_device = findexact(macADD_list,IoT_df1.iloc[r]['macDst'])\n",
    "        if src_device !=None :\n",
    "            y_label.append(src_device)\n",
    "        elif dst_device !=None:\n",
    "            y_label.append(dst_device)\n",
    "        else:\n",
    "            print('null')\n",
    "        \n",
    "    return y_label"
   ]
  },
  {
   "cell_type": "markdown",
   "id": "b5defe13",
   "metadata": {},
   "source": [
    "## GenSangkey function"
   ]
  },
  {
   "cell_type": "code",
   "execution_count": 3,
   "id": "fcdbe979",
   "metadata": {},
   "outputs": [],
   "source": [
    "def genSankey(df,cat_cols=[],value_cols='',title='Sankey Diagram'):\n",
    "    # maximum of 6 value cols -> 6 colors\n",
    "    colorPalette = ['#4B8BBE','#306998','#FFE873','#FFD43B','#646464']\n",
    "    labelList = []\n",
    "    colorNumList = []\n",
    "    for catCol in cat_cols:\n",
    "        labelListTemp =  list(set(df[catCol].values))\n",
    "        colorNumList.append(len(labelListTemp))\n",
    "        labelList = labelList + labelListTemp\n",
    "        \n",
    "    # remove duplicates from labelList\n",
    "    labelList = list(dict.fromkeys(labelList))\n",
    "    \n",
    "    # define colors based on number of levels\n",
    "    colorList = []\n",
    "    for idx, colorNum in enumerate(colorNumList):\n",
    "        colorList = colorList + [colorPalette[idx]]*colorNum\n",
    "        \n",
    "    # transform df into a source-target pair\n",
    "    for i in range(len(cat_cols)-1):\n",
    "        if i==0:\n",
    "            sourceTargetDf = df[[cat_cols[i],cat_cols[i+1],value_cols]]\n",
    "            sourceTargetDf.columns = ['source','target','count']\n",
    "        else:\n",
    "            tempDf = df[[cat_cols[i],cat_cols[i+1],value_cols]]\n",
    "            tempDf.columns = ['source','target','count']\n",
    "            sourceTargetDf = pd.concat([sourceTargetDf,tempDf])\n",
    "        sourceTargetDf = sourceTargetDf.groupby(['source','target']).agg({'count':'sum'}).reset_index()\n",
    "        \n",
    "    # add index for source-target pair\n",
    "    sourceTargetDf['sourceID'] = sourceTargetDf['source'].apply(lambda x: labelList.index(x))\n",
    "    sourceTargetDf['targetID'] = sourceTargetDf['target'].apply(lambda x: labelList.index(x))\n",
    "    \n",
    "    # creating the sankey diagram\n",
    "    data = dict(\n",
    "        type='sankey',\n",
    "        node = dict(\n",
    "          pad = 15,\n",
    "          thickness = 20,\n",
    "          line = dict(\n",
    "            color = \"black\",\n",
    "            width = 0.5\n",
    "          ),\n",
    "          label = labelList,\n",
    "          color = colorList\n",
    "        ),\n",
    "        link = dict(\n",
    "          source = sourceTargetDf['sourceID'],\n",
    "          target = sourceTargetDf['targetID'],\n",
    "          value = sourceTargetDf['count']\n",
    "        )\n",
    "      )\n",
    "    \n",
    "    layout =  dict(\n",
    "        #title = title,\n",
    "        font = dict(\n",
    "          size = 20\n",
    "        )\n",
    "    )\n",
    "       \n",
    "    fig = dict(data=[data], layout=layout)\n",
    "    return fig\n"
   ]
  },
  {
   "cell_type": "code",
   "execution_count": 5,
   "id": "08a2feee",
   "metadata": {},
   "outputs": [],
   "source": [
    "def getDF(file_dir,headernames):\n",
    "    for r, d, f in os.walk(file_dir):\n",
    "        for file in f:\n",
    "            if file.endswith(\"model0_train_paper.csv\"):\n",
    "                entry = os.path.join(r, file)\n",
    "                IoT_df2 = pd.read_csv(entry,header=None)\n",
    "    IoT_df2.columns=headernames\n",
    "    \n",
    "    return IoT_df2\n",
    "            \n",
    "                        "
   ]
  },
  {
   "cell_type": "markdown",
   "id": "75b0ce7a",
   "metadata": {},
   "source": [
    "## Load csv file of IoT dataset "
   ]
  },
  {
   "cell_type": "code",
   "execution_count": 6,
   "id": "44f24d6e",
   "metadata": {},
   "outputs": [],
   "source": [
    "## File path\n",
    "file_dir = '/Users/kalika/Documents/CPS-IoT_security/TOR_tawan/database/Tawan_device_list/dataset_model_0/' "
   ]
  },
  {
   "cell_type": "code",
   "execution_count": 7,
   "id": "ba6f2ecc",
   "metadata": {},
   "outputs": [],
   "source": [
    "headernames = ['ipSrc', 'ipDst', 'macSrc', 'macDst', 'portSrc', 'portDst', 'pktLength', 'deviceName', 'protocol', 'detail' ]\n"
   ]
  },
  {
   "cell_type": "code",
   "execution_count": 8,
   "id": "1b6399e7",
   "metadata": {},
   "outputs": [],
   "source": [
    "list_name = '/Users/kalika/Documents/CPS-IoT_security/TOR_tawan/database/Tawan_device_list/dataset_model_0/Device_list_tw.csv'\n",
    "device_name = pd.read_csv(list_name,header=None)"
   ]
  },
  {
   "cell_type": "code",
   "execution_count": 9,
   "id": "e7ef8a80",
   "metadata": {},
   "outputs": [],
   "source": [
    "\n",
    "device_name.columns = ['device','macAddress']"
   ]
  },
  {
   "cell_type": "code",
   "execution_count": 11,
   "id": "71d03494",
   "metadata": {},
   "outputs": [
    {
     "name": "stdout",
     "output_type": "stream",
     "text": [
      "macADD_list =  ['cc:50:e3:da:00:7f', 'cc:50:e3:da:00:3f', '60:01:94:ac:93:31', '60:01:94:ac:8f:fd', '60:01:94:74:22:a6', 'cc:50:e3:00:68:c8', '84:f3:eb:3d:fa:f5', 'ac:84:c6:21:07:3e', 'b0:4e:26:ae:47:e5', '50:c7:bf:8d:87:b6', 'ac:84:c6:bf:fc:a5', '00:17:88:b2:6b:0c', '18:b4:30:8f:88:a8', '54:e5:bd:8c:5c:5e', '4c:ef:c0:a9:b1:c1', '68:9a:87:31:d8:15', '4c:17:44:df:1f:b6', '44:65:0d:56:cc:d3']\n"
     ]
    }
   ],
   "source": [
    "IoT_df2 = getDF(file_dir,headernames)\n",
    "y_label = Y_label(IoT_df2,device_name)\n",
    "Label = device_name['device'].values.tolist()"
   ]
  },
  {
   "cell_type": "markdown",
   "id": "abf2b16d",
   "metadata": {},
   "source": [
    "## Create source Sankey"
   ]
  },
  {
   "cell_type": "code",
   "execution_count": null,
   "id": "a1dfd5b5",
   "metadata": {},
   "outputs": [],
   "source": [
    "df = IoT_df2['deviceName'] == 6\n",
    "df = IoT_df2[df]\n",
    "print(df.shape)\n",
    "print(IoT_df2.shape)"
   ]
  },
  {
   "cell_type": "code",
   "execution_count": null,
   "id": "f8219d93",
   "metadata": {},
   "outputs": [],
   "source": [
    "source = df['deviceName'].values.tolist()\n",
    "target = df['macDst'].values.tolist()\n",
    "value = df['pktLength'].values.tolist()"
   ]
  },
  {
   "cell_type": "code",
   "execution_count": null,
   "id": "fca85cac",
   "metadata": {},
   "outputs": [],
   "source": [
    "srcPort_list, srcPort_count  = np.unique(target,return_counts=True)\n",
    "print(srcPort_list)\n",
    "print(srcPort_list.shape)\n",
    "print(srcPort_count)\n",
    "src_port = dict(zip(srcPort_list, srcPort_count))\n",
    "src_port_df1 = pd.DataFrame({'srcPort': srcPort_list,'count': srcPort_count})\n",
    "src_port_df1.head()\n",
    "Device_srcport = src_port_df1['count'] > 100\n",
    "Device_src = src_port_df1[Amazon_srcport]\n",
    "Device_src.head()\n",
    "Device_src.shape\n"
   ]
  },
  {
   "cell_type": "code",
   "execution_count": null,
   "id": "44c47d3c",
   "metadata": {},
   "outputs": [],
   "source": [
    "source = []\n",
    "for i in range(Amazon_src.shape[0]):\n",
    "    source.append('Nest IQ Cam')"
   ]
  },
  {
   "cell_type": "code",
   "execution_count": null,
   "id": "0e06fcfd",
   "metadata": {},
   "outputs": [],
   "source": [
    "target = Device_src['srcPort'].values.tolist()\n",
    "value = Device_src['count'].values.tolist()"
   ]
  },
  {
   "cell_type": "code",
   "execution_count": null,
   "id": "431c17db",
   "metadata": {},
   "outputs": [],
   "source": [
    "df = pd.DataFrame({'source': source, 'target': target, 'count': value})\n",
    "df"
   ]
  },
  {
   "cell_type": "code",
   "execution_count": null,
   "id": "b980ae24",
   "metadata": {},
   "outputs": [],
   "source": [
    "#fig = genSankey(df,cat_cols=['source','target'],value_cols='count',title='Sankey Diagram')\n",
    "fig = genSankey(df,cat_cols=['source','target'],value_cols='count')\n",
    "fig2 = go.Figure(fig)\n",
    "fig2.show()\n",
    "\n"
   ]
  }
 ],
 "metadata": {
  "kernelspec": {
   "display_name": "Python 3",
   "language": "python",
   "name": "python3"
  },
  "language_info": {
   "codemirror_mode": {
    "name": "ipython",
    "version": 3
   },
   "file_extension": ".py",
   "mimetype": "text/x-python",
   "name": "python",
   "nbconvert_exporter": "python",
   "pygments_lexer": "ipython3",
   "version": "3.7.7"
  }
 },
 "nbformat": 4,
 "nbformat_minor": 5
}
